{
 "nbformat": 4,
 "nbformat_minor": 2,
 "metadata": {
  "language_info": {
   "name": "python",
   "codemirror_mode": {
    "name": "ipython",
    "version": 3
   }
  },
  "orig_nbformat": 2,
  "file_extension": ".py",
  "mimetype": "text/x-python",
  "name": "python",
  "npconvert_exporter": "python",
  "pygments_lexer": "ipython3",
  "version": 3
 },
 "cells": [
  {
   "cell_type": "code",
   "execution_count": null,
   "metadata": {},
   "outputs": [
    {
     "ename": "Error",
     "evalue": "Jupyter notebook failed to launch. \r\nError: Jupyter server crashed. Unable to connect. \r\nError code from jupyter: 0\nFailed to run jupyter as observable with args notebook --no-browser --notebook-dir=/var/folders/_y/gk0qg69114qc3fjsjv9x6ddh0000gn/T/6a15b41d-69e9-43d9-8138-f9e6a7dda588 --config=/var/folders/_y/gk0qg69114qc3fjsjv9x6ddh0000gn/T/6a15b41d-69e9-43d9-8138-f9e6a7dda588/jupyter_notebook_config.py --NotebookApp.iopub_data_rate_limit=10000000000.0\n",
     "output_type": "error",
     "traceback": [
      "Error: Jupyter notebook failed to launch.",
      "Error: Jupyter server crashed. Unable to connect.",
      "Error code from jupyter: 0",
      "Failed to run jupyter as observable with args notebook --no-browser --notebook-dir=/var/folders/_y/gk0qg69114qc3fjsjv9x6ddh0000gn/T/6a15b41d-69e9-43d9-8138-f9e6a7dda588 --config=/var/folders/_y/gk0qg69114qc3fjsjv9x6ddh0000gn/T/6a15b41d-69e9-43d9-8138-f9e6a7dda588/jupyter_notebook_config.py --NotebookApp.iopub_data_rate_limit=10000000000.0",
      "at E.start (/Users/kshitij/.vscode/extensions/ms-python.python-2020.2.64397/out/client/extension.js:1:825656)"
     ]
    }
   ],
   "source": [
    "%pwd"
   ]
  },
  {
   "cell_type": "code",
   "execution_count": null,
   "metadata": {},
   "outputs": [],
   "source": []
  }
 ]
}